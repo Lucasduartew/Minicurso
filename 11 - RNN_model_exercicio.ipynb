{
  "nbformat": 4,
  "nbformat_minor": 0,
  "metadata": {
    "colab": {
      "provenance": []
    },
    "kernelspec": {
      "name": "python3",
      "display_name": "Python 3"
    },
    "language_info": {
      "name": "python"
    }
  },
  "cells": [
    {
      "cell_type": "markdown",
      "source": [
        "[link para a base de dados e notebook](https://www.kaggle.com/code/mennatullahelzarqa/earthquake-prediction-lr-rf-xgb)"
      ],
      "metadata": {
        "id": "E_gMfylUC60g"
      }
    },
    {
      "cell_type": "code",
      "source": [
        "df = pd.read_csv('earthquakes.csv')\n",
        "df.head()"
      ],
      "metadata": {
        "id": "ZdLjS_aRDMi4"
      },
      "execution_count": null,
      "outputs": []
    },
    {
      "cell_type": "markdown",
      "source": [
        "## Analisar o notebook\n",
        "* A base de dados deve ser processada.\n",
        "* os campos que interessam são:\n",
        "\n",
        "```magnitude_features_final_selection = ['depth','latitude','longitude','gap','rms','felt','sig','alert_red'] ```\n",
        "\n",
        "* O campo alert_red foi discretizado  \n",
        "\n",
        "* ONE HOT ENCODING\n",
        "\n",
        "```\n",
        "alert_encoded = pd.get_dummies(df_FS0_cat,columns=['alert'],dtype='int')\n",
        "print(alert_encoded)\n",
        "```\n",
        "\n",
        "\n",
        "* LABEL ENCODING\n",
        "\n",
        "\n",
        "```\n",
        "from sklearn.preprocessing import LabelEncoder\n",
        "LE = LabelEncoder()\n",
        "df_FS0['LE_alert'] = LE.fit_transform(df_FS0['alert'])\n",
        "print(df_FS0['LE_alert'])\n",
        "```\n",
        "\n",
        "\n",
        "* Drop categorical colums after encoding them\n",
        "```\n",
        "df_FS0 = df_FS0.drop(columns='alert')\n",
        "```\n",
        "\n",
        "*  concatenate dataFrame with elected features(numeric) with encoded categorical data\n",
        "```\n",
        "df_FS0_New = pd.concat([df_FS0,alert_encoded],axis=1)\n",
        "df_FS0_New\n",
        "```\n",
        "\n",
        "\n",
        "* features for magnitude\n",
        "```\n",
        "magnitude_features_final_selection = ['depth','latitude','longitude','gap','rms','felt','sig','alert_red']\n",
        "X_mag = df_FS0_New[magnitude_features_final_selection]\n",
        "y_mag = df['magnitude']\n",
        "```"
      ],
      "metadata": {
        "id": "jcdenco6C5dI"
      }
    },
    {
      "cell_type": "code",
      "source": [],
      "metadata": {
        "id": "MWhRvzMwF9_X"
      },
      "execution_count": null,
      "outputs": []
    }
  ]
}